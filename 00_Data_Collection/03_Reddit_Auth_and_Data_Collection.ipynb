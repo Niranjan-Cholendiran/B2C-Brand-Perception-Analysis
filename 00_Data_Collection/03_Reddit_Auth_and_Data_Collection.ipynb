{
  "cells": [
    {
      "cell_type": "code",
      "execution_count": 1,
      "metadata": {
        "id": "-SF6IY3QHAwN"
      },
      "outputs": [],
      "source": [
        "import requests\n",
        "import pandas as pd"
      ]
    },
    {
      "cell_type": "markdown",
      "metadata": {
        "id": "wuW2SKpZR-u5"
      },
      "source": [
        "## API Authentication"
      ]
    },
    {
      "cell_type": "code",
      "execution_count": 5,
      "metadata": {
        "id": "mcxudxHwGyEX"
      },
      "outputs": [],
      "source": [
        "# Authenticate user\n",
        "\n",
        "Client_ID= \"[CLIENT ID]\"\n",
        "Secret_Key= \"[SECRET KEY]\"\n",
        "\n",
        "auth= requests.auth.HTTPBasicAuth(Client_ID, Secret_Key)"
      ]
    },
    {
      "cell_type": "code",
      "execution_count": 8,
      "metadata": {
        "id": "MOhi_IzmHULY"
      },
      "outputs": [],
      "source": [
        "# Request API token\n",
        "\n",
        "data= {\n",
        "    'grant_type': \"password\",\n",
        "    'username': \"[USERNAME]\",\n",
        "    'password': \"[PASSWORD]\"\n",
        "}\n",
        "\n",
        "headers = {\"User-Agent\":\"MyAPI/0.01\"}\n",
        "\n",
        "res= requests.post('https://www.reddit.com/api/v1/access_token',\n",
        "                   auth= auth,\n",
        "                   data= data,\n",
        "                   headers= headers)\n",
        "\n",
        "# Store the access token\n",
        "TOKEN= res.json()['access_token']\n",
        "headers= {**headers, **{'Authorization': f'bearer {TOKEN}'}}"
      ]
    },
    {
      "cell_type": "code",
      "execution_count": 12,
      "metadata": {
        "colab": {
          "base_uri": "https://localhost:8080/"
        },
        "id": "C22gN6BuJf1L",
        "outputId": "99c2931e-8d23-40bd-9075-f79782ae9ad6"
      },
      "outputs": [
        {
          "name": "stdout",
          "output_type": "stream",
          "text": [
            "Authentication Successful :)\n"
          ]
        }
      ],
      "source": [
        "# Check authorization\n",
        "if(requests.get('https://oauth.reddit.com/api/v1/me', headers= headers).status_code == 200):\n",
        "    print(\"Authentication Successful :)\")\n",
        "else:\n",
        "    print(\"Authentication Failed :)\")"
      ]
    },
    {
      "cell_type": "markdown",
      "metadata": {
        "id": "TowH2-mZKFSn"
      },
      "source": [
        "## Collect new threads from \"Uber\" subreddit in United States"
      ]
    },
    {
      "cell_type": "code",
      "execution_count": 13,
      "metadata": {
        "colab": {
          "base_uri": "https://localhost:8080/"
        },
        "id": "sj8xI0xaJ1cR",
        "outputId": "25e9b5d7-0fef-45f3-cda4-9c9708070930"
      },
      "outputs": [
        {
          "data": {
            "text/plain": [
              "<Response [200]>"
            ]
          },
          "execution_count": 13,
          "metadata": {},
          "output_type": "execute_result"
        }
      ],
      "source": [
        "response= requests.get('https://oauth.reddit.com/r/uber/new', headers= headers, params= {'limit':'100', 'g':'US'})\n",
        "response"
      ]
    },
    {
      "cell_type": "code",
      "execution_count": 14,
      "metadata": {
        "colab": {
          "base_uri": "https://localhost:8080/",
          "height": 423
        },
        "id": "L-5ikaAfKf9P",
        "outputId": "a2d445dd-63ac-471e-c8bd-94e7fbef62c5"
      },
      "outputs": [
        {
          "data": {
            "text/html": [
              "<div>\n",
              "<style scoped>\n",
              "    .dataframe tbody tr th:only-of-type {\n",
              "        vertical-align: middle;\n",
              "    }\n",
              "\n",
              "    .dataframe tbody tr th {\n",
              "        vertical-align: top;\n",
              "    }\n",
              "\n",
              "    .dataframe thead th {\n",
              "        text-align: right;\n",
              "    }\n",
              "</style>\n",
              "<table border=\"1\" class=\"dataframe\">\n",
              "  <thead>\n",
              "    <tr style=\"text-align: right;\">\n",
              "      <th></th>\n",
              "      <th>subreddit</th>\n",
              "      <th>title</th>\n",
              "      <th>content</th>\n",
              "      <th>upvote_ratio</th>\n",
              "      <th>upvote</th>\n",
              "      <th>downvote</th>\n",
              "      <th>score</th>\n",
              "    </tr>\n",
              "  </thead>\n",
              "  <tbody>\n",
              "    <tr>\n",
              "      <th>0</th>\n",
              "      <td>uber</td>\n",
              "      <td>I was sent a gift card in ok currency and I'm ...</td>\n",
              "      <td>UK</td>\n",
              "      <td>1.00</td>\n",
              "      <td>1</td>\n",
              "      <td>0</td>\n",
              "      <td>1</td>\n",
              "    </tr>\n",
              "    <tr>\n",
              "      <th>1</th>\n",
              "      <td>uber</td>\n",
              "      <td>Can you rent a car with a debit card?</td>\n",
              "      <td></td>\n",
              "      <td>0.50</td>\n",
              "      <td>0</td>\n",
              "      <td>0</td>\n",
              "      <td>0</td>\n",
              "    </tr>\n",
              "    <tr>\n",
              "      <th>2</th>\n",
              "      <td>uber</td>\n",
              "      <td>Uber beats Q4 estimates as revenue and booking...</td>\n",
              "      <td></td>\n",
              "      <td>1.00</td>\n",
              "      <td>10</td>\n",
              "      <td>0</td>\n",
              "      <td>10</td>\n",
              "    </tr>\n",
              "    <tr>\n",
              "      <th>3</th>\n",
              "      <td>uber</td>\n",
              "      <td>Uber Driver Earned $100,000 But Only Took Home...</td>\n",
              "      <td></td>\n",
              "      <td>0.67</td>\n",
              "      <td>1</td>\n",
              "      <td>0</td>\n",
              "      <td>1</td>\n",
              "    </tr>\n",
              "    <tr>\n",
              "      <th>4</th>\n",
              "      <td>uber</td>\n",
              "      <td>Tip Your Uber Driver</td>\n",
              "      <td>As a self employed Uber driver I use my 2023 S...</td>\n",
              "      <td>0.25</td>\n",
              "      <td>0</td>\n",
              "      <td>0</td>\n",
              "      <td>0</td>\n",
              "    </tr>\n",
              "    <tr>\n",
              "      <th>...</th>\n",
              "      <td>...</td>\n",
              "      <td>...</td>\n",
              "      <td>...</td>\n",
              "      <td>...</td>\n",
              "      <td>...</td>\n",
              "      <td>...</td>\n",
              "      <td>...</td>\n",
              "    </tr>\n",
              "    <tr>\n",
              "      <th>95</th>\n",
              "      <td>uber</td>\n",
              "      <td>X cancelled on me for too many suitcases, came...</td>\n",
              "      <td>My sister and I needed a cab for Heathrow airp...</td>\n",
              "      <td>0.77</td>\n",
              "      <td>50</td>\n",
              "      <td>0</td>\n",
              "      <td>50</td>\n",
              "    </tr>\n",
              "    <tr>\n",
              "      <th>96</th>\n",
              "      <td>uber</td>\n",
              "      <td>Need advice on how to proceed- Uber driver sho...</td>\n",
              "      <td>I took an Uber to a class I had yesterday morn...</td>\n",
              "      <td>0.85</td>\n",
              "      <td>28</td>\n",
              "      <td>0</td>\n",
              "      <td>28</td>\n",
              "    </tr>\n",
              "    <tr>\n",
              "      <th>97</th>\n",
              "      <td>uber</td>\n",
              "      <td>Can you tip through a voucher?</td>\n",
              "      <td>So a company game me a Uber voucher or credit ...</td>\n",
              "      <td>1.00</td>\n",
              "      <td>7</td>\n",
              "      <td>0</td>\n",
              "      <td>7</td>\n",
              "    </tr>\n",
              "    <tr>\n",
              "      <th>98</th>\n",
              "      <td>uber</td>\n",
              "      <td>Extreme cell phone addiction</td>\n",
              "      <td>Not a matter to create a debate or fuss but se...</td>\n",
              "      <td>0.47</td>\n",
              "      <td>0</td>\n",
              "      <td>0</td>\n",
              "      <td>0</td>\n",
              "    </tr>\n",
              "    <tr>\n",
              "      <th>99</th>\n",
              "      <td>uber</td>\n",
              "      <td>Unpopular opinion…. Maybe?</td>\n",
              "      <td></td>\n",
              "      <td>0.50</td>\n",
              "      <td>0</td>\n",
              "      <td>0</td>\n",
              "      <td>0</td>\n",
              "    </tr>\n",
              "  </tbody>\n",
              "</table>\n",
              "<p>100 rows × 7 columns</p>\n",
              "</div>"
            ],
            "text/plain": [
              "   subreddit                                              title  \\\n",
              "0       uber  I was sent a gift card in ok currency and I'm ...   \n",
              "1       uber              Can you rent a car with a debit card?   \n",
              "2       uber  Uber beats Q4 estimates as revenue and booking...   \n",
              "3       uber  Uber Driver Earned $100,000 But Only Took Home...   \n",
              "4       uber                               Tip Your Uber Driver   \n",
              "..       ...                                                ...   \n",
              "95      uber  X cancelled on me for too many suitcases, came...   \n",
              "96      uber  Need advice on how to proceed- Uber driver sho...   \n",
              "97      uber                     Can you tip through a voucher?   \n",
              "98      uber                       Extreme cell phone addiction   \n",
              "99      uber                         Unpopular opinion…. Maybe?   \n",
              "\n",
              "                                              content  upvote_ratio  upvote  \\\n",
              "0                                                 UK           1.00       1   \n",
              "1                                                              0.50       0   \n",
              "2                                                              1.00      10   \n",
              "3                                                              0.67       1   \n",
              "4   As a self employed Uber driver I use my 2023 S...          0.25       0   \n",
              "..                                                ...           ...     ...   \n",
              "95  My sister and I needed a cab for Heathrow airp...          0.77      50   \n",
              "96  I took an Uber to a class I had yesterday morn...          0.85      28   \n",
              "97  So a company game me a Uber voucher or credit ...          1.00       7   \n",
              "98  Not a matter to create a debate or fuss but se...          0.47       0   \n",
              "99                                                             0.50       0   \n",
              "\n",
              "    downvote  score  \n",
              "0          0      1  \n",
              "1          0      0  \n",
              "2          0     10  \n",
              "3          0      1  \n",
              "4          0      0  \n",
              "..       ...    ...  \n",
              "95         0     50  \n",
              "96         0     28  \n",
              "97         0      7  \n",
              "98         0      0  \n",
              "99         0      0  \n",
              "\n",
              "[100 rows x 7 columns]"
            ]
          },
          "execution_count": 14,
          "metadata": {},
          "output_type": "execute_result"
        }
      ],
      "source": [
        "data={'subreddit':[],\n",
        "      'title':[],\n",
        "      'content':[],\n",
        "      'upvote_ratio':[],\n",
        "      'upvote':[],\n",
        "      'downvote':[],\n",
        "      'score':[]\n",
        "      }\n",
        "\n",
        "for i in response.json()['data']['children']:\n",
        "  data['subreddit'].append(i['data']['subreddit'])\n",
        "  data['title'].append(i['data']['title'])\n",
        "  data['content'].append(i['data']['selftext'])\n",
        "  data['upvote_ratio'].append(i['data']['upvote_ratio'])\n",
        "  data['upvote'].append(i['data']['ups'])\n",
        "  data['downvote'].append(i['data']['downs'])\n",
        "  data['score'].append(i['data']['score'])\n",
        "\n",
        "df= pd.DataFrame(data)\n",
        "df"
      ]
    },
    {
      "cell_type": "code",
      "execution_count": 15,
      "metadata": {
        "id": "-0ImVlGnK9Hl"
      },
      "outputs": [],
      "source": [
        "df.to_csv('Uber_Reddit_Data.csv', index= False)"
      ]
    },
    {
      "cell_type": "code",
      "execution_count": null,
      "metadata": {},
      "outputs": [],
      "source": []
    }
  ],
  "metadata": {
    "colab": {
      "provenance": []
    },
    "kernelspec": {
      "display_name": "Python 3",
      "name": "python3"
    },
    "language_info": {
      "codemirror_mode": {
        "name": "ipython",
        "version": 3
      },
      "file_extension": ".py",
      "mimetype": "text/x-python",
      "name": "python",
      "nbconvert_exporter": "python",
      "pygments_lexer": "ipython3",
      "version": "3.11.5"
    }
  },
  "nbformat": 4,
  "nbformat_minor": 0
}
