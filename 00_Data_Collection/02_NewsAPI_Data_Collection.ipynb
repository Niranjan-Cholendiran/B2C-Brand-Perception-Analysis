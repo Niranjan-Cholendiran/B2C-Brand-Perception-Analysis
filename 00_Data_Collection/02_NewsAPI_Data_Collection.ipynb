{
 "cells": [
  {
   "cell_type": "code",
   "execution_count": 33,
   "metadata": {},
   "outputs": [],
   "source": [
    "import requests\n",
    "import pandas as pd"
   ]
  },
  {
   "cell_type": "code",
   "execution_count": 35,
   "metadata": {},
   "outputs": [],
   "source": [
    "# Intiate lists to store values\n",
    "\n",
    "source=[]\n",
    "author=[]\n",
    "title=[]\n",
    "content=[]\n",
    "date=[]\n",
    "topic=[]"
   ]
  },
  {
   "cell_type": "markdown",
   "metadata": {},
   "source": [
    "## Uber's Customer Service"
   ]
  },
  {
   "cell_type": "code",
   "execution_count": 36,
   "metadata": {},
   "outputs": [
    {
     "name": "stdout",
     "output_type": "stream",
     "text": [
      "URL Request Successful :)\n",
      "Number of articles available: 100\n"
     ]
    }
   ],
   "source": [
    "page_url= \"https://newsapi.org/v2/everything?q=uber%20NOT%20eats%20AND%20customer%20service&pageSize1&language=en&apiKey=[API KEY]&sortby=popularity\"\n",
    "page= requests.get(page_url) \n",
    "\n",
    "# verify url\n",
    "if(page.status_code == 200): \n",
    "    print(\"URL Request Successful :)\")\n",
    "else: \n",
    "    print(\"URL Request Failed :(\")\n",
    "\n",
    "# Convert result to json\n",
    "result_json= page.json()\n",
    "\n",
    "print(\"Number of articles available:\", len(result_json['articles']))\n",
    "\n",
    "\n",
    "# Extract information\n",
    "for news in result_json['articles']:\n",
    "    source.append(news['source']['name'])\n",
    "    author.append(news['author'])\n",
    "    title.append(news['title'])\n",
    "    content.append(news['content'])\n",
    "    date.append(news['publishedAt'])\n",
    "    topic.append(\"Customer Service\")\n"
   ]
  },
  {
   "cell_type": "markdown",
   "metadata": {},
   "source": [
    "## Uber's Safety"
   ]
  },
  {
   "cell_type": "code",
   "execution_count": 37,
   "metadata": {},
   "outputs": [
    {
     "name": "stdout",
     "output_type": "stream",
     "text": [
      "URL Request Successful :)\n",
      "Number of articles available: 100\n"
     ]
    }
   ],
   "source": [
    "page_url= \"https://newsapi.org/v2/everything?q=uber%20NOT%20eats%20AND%20safety&pageSize1&language=en&apiKey=[API KEY]&sortby=popularity\"\n",
    "\n",
    "# verify url\n",
    "if(page.status_code == 200): \n",
    "    print(\"URL Request Successful :)\")\n",
    "else: \n",
    "    print(\"URL Request Failed :(\")\n",
    "\n",
    "# Convert result to json\n",
    "result_json= page.json()\n",
    "\n",
    "print(\"Number of articles available:\", len(result_json['articles']))\n",
    "\n",
    "\n",
    "# Extract information\n",
    "for news in result_json['articles']:\n",
    "    source.append(news['source']['name'])\n",
    "    author.append(news['author'])\n",
    "    title.append(news['title'])\n",
    "    content.append(news['content'])\n",
    "    date.append(news['publishedAt'])\n",
    "    topic.append(\"Safety\")\n"
   ]
  },
  {
   "cell_type": "markdown",
   "metadata": {},
   "source": [
    "## Uber's Promotions"
   ]
  },
  {
   "cell_type": "code",
   "execution_count": 38,
   "metadata": {},
   "outputs": [
    {
     "name": "stdout",
     "output_type": "stream",
     "text": [
      "URL Request Successful :)\n",
      "Number of articles available: 26\n"
     ]
    }
   ],
   "source": [
    "page_url= \"https://newsapi.org/v2/everything?q=uber%20NOT%20eats%20AND%20promotion&pageSize1&language=en&apiKey=[API KEY]&sortby=popularity\"\n",
    "page= requests.get(page_url) \n",
    "\n",
    "# verify url\n",
    "if(page.status_code == 200): \n",
    "    print(\"URL Request Successful :)\")\n",
    "else: \n",
    "    print(\"URL Request Failed :(\")\n",
    "\n",
    "# Convert result to json\n",
    "result_json= page.json()\n",
    "\n",
    "print(\"Number of articles available:\", len(result_json['articles']))\n",
    "\n",
    "\n",
    "# Extract information\n",
    "for news in result_json['articles']:\n",
    "    source.append(news['source']['name'])\n",
    "    author.append(news['author'])\n",
    "    title.append(news['title'])\n",
    "    content.append(news['content'])\n",
    "    date.append(news['publishedAt'])\n",
    "    topic.append(\"Promotions\")\n"
   ]
  },
  {
   "cell_type": "markdown",
   "metadata": {},
   "source": [
    "## Uber's Pricing"
   ]
  },
  {
   "cell_type": "code",
   "execution_count": 39,
   "metadata": {},
   "outputs": [
    {
     "name": "stdout",
     "output_type": "stream",
     "text": [
      "URL Request Successful :)\n",
      "Number of articles available: 100\n"
     ]
    }
   ],
   "source": [
    "page_url= \"https://newsapi.org/v2/everything?q=uber%20NOT%20eats%20AND%20price&pageSize1&language=en&apiKey=[API KEY]&sortby=popularity\"\n",
    "page= requests.get(page_url) \n",
    "\n",
    "# verify url\n",
    "if(page.status_code == 200): \n",
    "    print(\"URL Request Successful :)\")\n",
    "else: \n",
    "    print(\"URL Request Failed :(\")\n",
    "\n",
    "# Convert result to json\n",
    "result_json= page.json()\n",
    "\n",
    "print(\"Number of articles available:\", len(result_json['articles']))\n",
    "\n",
    "# Extract information\n",
    "for news in result_json['articles']:\n",
    "    source.append(news['source']['name'])\n",
    "    author.append(news['author'])\n",
    "    title.append(news['title'])\n",
    "    content.append(news['content'])\n",
    "    date.append(news['publishedAt'])\n",
    "    topic.append(\"Pricing\")\n"
   ]
  },
  {
   "cell_type": "markdown",
   "metadata": {},
   "source": [
    "## Convert extracted values to dataframe"
   ]
  },
  {
   "cell_type": "code",
   "execution_count": 42,
   "metadata": {},
   "outputs": [
    {
     "data": {
      "text/html": [
       "<div>\n",
       "<style scoped>\n",
       "    .dataframe tbody tr th:only-of-type {\n",
       "        vertical-align: middle;\n",
       "    }\n",
       "\n",
       "    .dataframe tbody tr th {\n",
       "        vertical-align: top;\n",
       "    }\n",
       "\n",
       "    .dataframe thead th {\n",
       "        text-align: right;\n",
       "    }\n",
       "</style>\n",
       "<table border=\"1\" class=\"dataframe\">\n",
       "  <thead>\n",
       "    <tr style=\"text-align: right;\">\n",
       "      <th></th>\n",
       "      <th>source</th>\n",
       "      <th>author</th>\n",
       "      <th>title</th>\n",
       "      <th>content</th>\n",
       "      <th>date</th>\n",
       "      <th>topic</th>\n",
       "    </tr>\n",
       "  </thead>\n",
       "  <tbody>\n",
       "    <tr>\n",
       "      <th>265</th>\n",
       "      <td>Forbes</td>\n",
       "      <td>Noël Burgess, Contributor, \\n Noël Burgess, Co...</td>\n",
       "      <td>BottleRock Napa Valley 2024: Guide To The Ulti...</td>\n",
       "      <td>Bottlerock Napa Valley \\r\\nBottlerock Napa Val...</td>\n",
       "      <td>2024-01-08T13:00:00Z</td>\n",
       "      <td>Pricing</td>\n",
       "    </tr>\n",
       "    <tr>\n",
       "      <th>309</th>\n",
       "      <td>The Daily Dot</td>\n",
       "      <td>Kira Deshler</td>\n",
       "      <td>Newsletter: Fox News accuses Taylor Swift of b...</td>\n",
       "      <td>Hello fellow citizens of the internet! Kira he...</td>\n",
       "      <td>2024-01-15T16:30:00Z</td>\n",
       "      <td>Pricing</td>\n",
       "    </tr>\n",
       "    <tr>\n",
       "      <th>37</th>\n",
       "      <td>Bradenkelley.com</td>\n",
       "      <td>Howard Tiersky</td>\n",
       "      <td>What is Digital Transformation anyway?</td>\n",
       "      <td>Digital Transformation is the third wave of di...</td>\n",
       "      <td>2024-01-24T12:00:00Z</td>\n",
       "      <td>Customer Service</td>\n",
       "    </tr>\n",
       "    <tr>\n",
       "      <th>6</th>\n",
       "      <td>The Points Guy</td>\n",
       "      <td>Michelle Couch-Friedman</td>\n",
       "      <td>How I got $2,900 of expenses covered after the...</td>\n",
       "      <td>Even with all our travel savvy, the experts at...</td>\n",
       "      <td>2024-01-24T13:30:37Z</td>\n",
       "      <td>Customer Service</td>\n",
       "    </tr>\n",
       "    <tr>\n",
       "      <th>172</th>\n",
       "      <td>Asmartbear.com</td>\n",
       "      <td>marcinignac</td>\n",
       "      <td>Extreme brainstorming questions to trigger new...</td>\n",
       "      <td>How do you come up with fresh, transformative ...</td>\n",
       "      <td>2024-02-05T05:47:02Z</td>\n",
       "      <td>Safety</td>\n",
       "    </tr>\n",
       "    <tr>\n",
       "      <th>280</th>\n",
       "      <td>CleanTechnica</td>\n",
       "      <td>Michael Barnard</td>\n",
       "      <td>RMI Has Fallen Into The Hydrogen For Energy Pi...</td>\n",
       "      <td>Sign up for daily news updates from CleanTechn...</td>\n",
       "      <td>2024-01-14T23:58:21Z</td>\n",
       "      <td>Pricing</td>\n",
       "    </tr>\n",
       "    <tr>\n",
       "      <th>191</th>\n",
       "      <td>CBC News</td>\n",
       "      <td>None</td>\n",
       "      <td>Are N.L. accents dying? No, b'y — but they are...</td>\n",
       "      <td>Get a Newfoundlander and Labradorian to tell y...</td>\n",
       "      <td>2024-01-20T09:30:29Z</td>\n",
       "      <td>Safety</td>\n",
       "    </tr>\n",
       "    <tr>\n",
       "      <th>94</th>\n",
       "      <td>The Times of India</td>\n",
       "      <td>ETtech</td>\n",
       "      <td>Sachin Bansal’s Navi in slow lane; New Year sp...</td>\n",
       "      <td>Happy Tuesday! Sachin Bansals fintech venture ...</td>\n",
       "      <td>2024-01-09T01:26:20Z</td>\n",
       "      <td>Customer Service</td>\n",
       "    </tr>\n",
       "    <tr>\n",
       "      <th>294</th>\n",
       "      <td>[Removed]</td>\n",
       "      <td>None</td>\n",
       "      <td>[Removed]</td>\n",
       "      <td>[Removed]</td>\n",
       "      <td>1970-01-01T00:00:00Z</td>\n",
       "      <td>Pricing</td>\n",
       "    </tr>\n",
       "    <tr>\n",
       "      <th>234</th>\n",
       "      <td>Digital Trends</td>\n",
       "      <td>Nadeem Sarwar</td>\n",
       "      <td>Don’t buy a Galaxy S24 Ultra or iPhone 15 Pro ...</td>\n",
       "      <td>Tushar Mehta / Digital Trends\\r\\n“Do I need al...</td>\n",
       "      <td>2024-02-04T14:00:28Z</td>\n",
       "      <td>Pricing</td>\n",
       "    </tr>\n",
       "  </tbody>\n",
       "</table>\n",
       "</div>"
      ],
      "text/plain": [
       "                 source                                             author  \\\n",
       "265              Forbes  Noël Burgess, Contributor, \\n Noël Burgess, Co...   \n",
       "309       The Daily Dot                                       Kira Deshler   \n",
       "37     Bradenkelley.com                                     Howard Tiersky   \n",
       "6        The Points Guy                            Michelle Couch-Friedman   \n",
       "172      Asmartbear.com                                        marcinignac   \n",
       "280       CleanTechnica                                    Michael Barnard   \n",
       "191            CBC News                                               None   \n",
       "94   The Times of India                                             ETtech   \n",
       "294           [Removed]                                               None   \n",
       "234      Digital Trends                                      Nadeem Sarwar   \n",
       "\n",
       "                                                 title  \\\n",
       "265  BottleRock Napa Valley 2024: Guide To The Ulti...   \n",
       "309  Newsletter: Fox News accuses Taylor Swift of b...   \n",
       "37              What is Digital Transformation anyway?   \n",
       "6    How I got $2,900 of expenses covered after the...   \n",
       "172  Extreme brainstorming questions to trigger new...   \n",
       "280  RMI Has Fallen Into The Hydrogen For Energy Pi...   \n",
       "191  Are N.L. accents dying? No, b'y — but they are...   \n",
       "94   Sachin Bansal’s Navi in slow lane; New Year sp...   \n",
       "294                                          [Removed]   \n",
       "234  Don’t buy a Galaxy S24 Ultra or iPhone 15 Pro ...   \n",
       "\n",
       "                                               content                  date  \\\n",
       "265  Bottlerock Napa Valley \\r\\nBottlerock Napa Val...  2024-01-08T13:00:00Z   \n",
       "309  Hello fellow citizens of the internet! Kira he...  2024-01-15T16:30:00Z   \n",
       "37   Digital Transformation is the third wave of di...  2024-01-24T12:00:00Z   \n",
       "6    Even with all our travel savvy, the experts at...  2024-01-24T13:30:37Z   \n",
       "172  How do you come up with fresh, transformative ...  2024-02-05T05:47:02Z   \n",
       "280  Sign up for daily news updates from CleanTechn...  2024-01-14T23:58:21Z   \n",
       "191  Get a Newfoundlander and Labradorian to tell y...  2024-01-20T09:30:29Z   \n",
       "94   Happy Tuesday! Sachin Bansals fintech venture ...  2024-01-09T01:26:20Z   \n",
       "294                                          [Removed]  1970-01-01T00:00:00Z   \n",
       "234  Tushar Mehta / Digital Trends\\r\\n“Do I need al...  2024-02-04T14:00:28Z   \n",
       "\n",
       "                topic  \n",
       "265           Pricing  \n",
       "309           Pricing  \n",
       "37   Customer Service  \n",
       "6    Customer Service  \n",
       "172            Safety  \n",
       "280           Pricing  \n",
       "191            Safety  \n",
       "94   Customer Service  \n",
       "294           Pricing  \n",
       "234           Pricing  "
      ]
     },
     "execution_count": 42,
     "metadata": {},
     "output_type": "execute_result"
    }
   ],
   "source": [
    "df=pd.DataFrame({\n",
    "    \"source\":source,\n",
    "    \"author\":author,\n",
    "    \"title\":title,\n",
    "    \"content\":content,\n",
    "    \"date\":date,\n",
    "    \"topic\":topic\n",
    "})\n",
    "\n",
    "df.sample(10)"
   ]
  },
  {
   "cell_type": "code",
   "execution_count": null,
   "metadata": {},
   "outputs": [],
   "source": []
  }
 ],
 "metadata": {
  "kernelspec": {
   "display_name": "Python 3",
   "language": "python",
   "name": "python3"
  },
  "language_info": {
   "codemirror_mode": {
    "name": "ipython",
    "version": 3
   },
   "file_extension": ".py",
   "mimetype": "text/x-python",
   "name": "python",
   "nbconvert_exporter": "python",
   "pygments_lexer": "ipython3",
   "version": "3.11.5"
  }
 },
 "nbformat": 4,
 "nbformat_minor": 2
}
