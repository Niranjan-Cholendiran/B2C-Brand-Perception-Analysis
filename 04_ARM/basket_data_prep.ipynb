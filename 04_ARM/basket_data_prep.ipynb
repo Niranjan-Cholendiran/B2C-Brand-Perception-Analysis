{
 "cells": [
  {
   "cell_type": "code",
   "execution_count": null,
   "metadata": {},
   "outputs": [],
   "source": [
    "import pandas as pd\n",
    "import numpy as np"
   ]
  },
  {
   "cell_type": "code",
   "execution_count": null,
   "metadata": {},
   "outputs": [],
   "source": [
    "df= pd.read_excel('After Removing Stop Words.xlsx')\n",
    "df=df.drop(columns=['reviews_with_stop_words'])\n",
    "df.columns=['reviews']\n",
    "df.head()"
   ]
  },
  {
   "cell_type": "code",
   "execution_count": null,
   "metadata": {},
   "outputs": [],
   "source": [
    "df['reviews'].isna().any()"
   ]
  },
  {
   "cell_type": "code",
   "execution_count": null,
   "metadata": {},
   "outputs": [],
   "source": [
    "def prepare_basket_data_from_text(df, col_name):\n",
    "    basket_data= []\n",
    "    for i in df[col_name].values:\n",
    "        if(i in ['',None]): continue\n",
    "        basket_data.append(i.split())\n",
    "        basket_data= [item for item in basket_data if item not in ('',\" \")]\n",
    "    basket_data= pd.DataFrame(basket_data)\n",
    "    return basket_data\n",
    "\n",
    "basket_data= prepare_basket_data_from_text(df, \"reviews\")\n",
    "basket_data.sample(10)"
   ]
  },
  {
   "cell_type": "code",
   "execution_count": null,
   "metadata": {},
   "outputs": [],
   "source": [
    "basket_data.shape"
   ]
  },
  {
   "cell_type": "code",
   "execution_count": null,
   "metadata": {},
   "outputs": [],
   "source": [
    "basket_data.shape"
   ]
  },
  {
   "cell_type": "code",
   "execution_count": null,
   "metadata": {},
   "outputs": [],
   "source": [
    "basket_data.to_csv(\"Basket_data.csv\", index= False)"
   ]
  },
  {
   "cell_type": "code",
   "execution_count": null,
   "metadata": {},
   "outputs": [],
   "source": [
    "k= ['adas','','aas','a','']\n",
    "#k.remove('')\n",
    "\n",
    "k= [item for item in k if item != '']\n",
    "k"
   ]
  },
  {
   "cell_type": "code",
   "execution_count": null,
   "metadata": {},
   "outputs": [],
   "source": []
  }
 ],
 "metadata": {
  "kernelspec": {
   "display_name": "Python 3",
   "language": "python",
   "name": "python3"
  },
  "language_info": {
   "codemirror_mode": {
    "name": "ipython",
    "version": 3
   },
   "file_extension": ".py",
   "mimetype": "text/x-python",
   "name": "python",
   "nbconvert_exporter": "python",
   "pygments_lexer": "ipython3",
   "version": "3.11.5"
  }
 },
 "nbformat": 4,
 "nbformat_minor": 2
}
